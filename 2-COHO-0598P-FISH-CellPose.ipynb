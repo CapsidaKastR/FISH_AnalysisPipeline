{
 "cells": [
  {
   "cell_type": "code",
   "execution_count": 1,
   "id": "2f0f7e8e",
   "metadata": {},
   "outputs": [],
   "source": [
    "import numpy as np\n",
    "import time, os, sys\n",
    "import matplotlib.pyplot as plt\n",
    "import matplotlib as mpl\n",
    "import os, shutil\n",
    "import matplotlib.pyplot as plt\n",
    "from cellpose import core, utils, io, models, metrics\n",
    "from glob import glob\n",
    "\n",
    "import time"
   ]
  },
  {
   "cell_type": "code",
   "execution_count": 2,
   "id": "c04e5f78-2f23-44a5-80b6-5ac22d96650c",
   "metadata": {},
   "outputs": [
    {
     "data": {
      "text/plain": [
       "'\\\\\\\\pwcapdfs02.capsida.local\\\\shares$\\\\Histology\\\\FISH\\\\COHO-0626M\\\\9July2029\\\\Analysis'"
      ]
     },
     "execution_count": 2,
     "metadata": {},
     "output_type": "execute_result"
    }
   ],
   "source": [
    "pwd"
   ]
  },
  {
   "cell_type": "code",
   "execution_count": 3,
   "id": "a5536311-ed72-459d-9125-b09f0cfb92aa",
   "metadata": {},
   "outputs": [],
   "source": [
    "# DEFINE CELLPOSE MODEL\n",
    "# model_type='cyto' or model_type='nuclei\n",
    "\n",
    "# Load the custom model\n",
    "model_path = \"C:/Users/Ryan.Kast/.cellpose/models/Gad2_DAPI_RNAscope__Cyto2\"\n",
    "my_model = models.CellposeModel(gpu=True, pretrained_model=model_path) "
   ]
  },
  {
   "cell_type": "markdown",
   "id": "85359303-800b-4e17-9a6d-e656899e6fb3",
   "metadata": {},
   "source": [
    "## NeuN Model"
   ]
  },
  {
   "cell_type": "code",
   "execution_count": 23,
   "id": "c52d5560-2703-4566-8d52-d3b4ffaaa044",
   "metadata": {},
   "outputs": [
    {
     "name": "stdout",
     "output_type": "stream",
     "text": [
      "//pwcapdfs02.capsida.local/shares$/Histology/Ryan/FISH//cropped\n",
      "['//pwcapdfs02.capsida.local/shares$/Histology/Ryan/FISH//cropped\\\\cropped_2001_8-11_Frontal1.tif', '//pwcapdfs02.capsida.local/shares$/Histology/Ryan/FISH//cropped\\\\cropped_2001_8-11_Frontal2.tif', '//pwcapdfs02.capsida.local/shares$/Histology/Ryan/FISH//cropped\\\\cropped_2001_8-11_Frontal3.tif', '//pwcapdfs02.capsida.local/shares$/Histology/Ryan/FISH//cropped\\\\cropped_2001_8-11_Frontal4.tif', '//pwcapdfs02.capsida.local/shares$/Histology/Ryan/FISH//cropped\\\\cropped_2001_8-11_Putamen1.tif', '//pwcapdfs02.capsida.local/shares$/Histology/Ryan/FISH//cropped\\\\cropped_2001_8-11_Putamen2.tif', '//pwcapdfs02.capsida.local/shares$/Histology/Ryan/FISH//cropped\\\\cropped_2001_8-11_Temporal1.tif', '//pwcapdfs02.capsida.local/shares$/Histology/Ryan/FISH//cropped\\\\cropped_2001_8-11_Temporal2.tif', '//pwcapdfs02.capsida.local/shares$/Histology/Ryan/FISH//cropped\\\\cropped_2001_8-11_Temporal3.tif', '//pwcapdfs02.capsida.local/shares$/Histology/Ryan/FISH//cropped\\\\cropped_2001_8-11_Temporal4.tif', '//pwcapdfs02.capsida.local/shares$/Histology/Ryan/FISH//cropped\\\\cropped_2001_8-11_Thalamus1.tif', '//pwcapdfs02.capsida.local/shares$/Histology/Ryan/FISH//cropped\\\\cropped_2001_8-11_Thalamus2.tif', '//pwcapdfs02.capsida.local/shares$/Histology/Ryan/FISH//cropped\\\\cropped_2002_8-15_Caudate1.tif', '//pwcapdfs02.capsida.local/shares$/Histology/Ryan/FISH//cropped\\\\cropped_2002_8-15_Caudate2.tif', '//pwcapdfs02.capsida.local/shares$/Histology/Ryan/FISH//cropped\\\\cropped_2002_8-15_Frontal1.tif', '//pwcapdfs02.capsida.local/shares$/Histology/Ryan/FISH//cropped\\\\cropped_2002_8-15_Frontal2.tif', '//pwcapdfs02.capsida.local/shares$/Histology/Ryan/FISH//cropped\\\\cropped_2002_8-15_Frontal3.tif', '//pwcapdfs02.capsida.local/shares$/Histology/Ryan/FISH//cropped\\\\cropped_2002_8-15_Frontal4.tif', '//pwcapdfs02.capsida.local/shares$/Histology/Ryan/FISH//cropped\\\\cropped_2002_8-15_Putamen1.tif', '//pwcapdfs02.capsida.local/shares$/Histology/Ryan/FISH//cropped\\\\cropped_2002_8-15_Putamen2.tif', '//pwcapdfs02.capsida.local/shares$/Histology/Ryan/FISH//cropped\\\\cropped_2002_8-15_Temporal1.tif', '//pwcapdfs02.capsida.local/shares$/Histology/Ryan/FISH//cropped\\\\cropped_2002_8-15_Temporal2.tif', '//pwcapdfs02.capsida.local/shares$/Histology/Ryan/FISH//cropped\\\\cropped_2002_8-15_Temporal3.tif', '//pwcapdfs02.capsida.local/shares$/Histology/Ryan/FISH//cropped\\\\cropped_2002_8-15_Temporal4.tif', '//pwcapdfs02.capsida.local/shares$/Histology/Ryan/FISH//cropped\\\\cropped_2501_8-5_Caudate1.tif', '//pwcapdfs02.capsida.local/shares$/Histology/Ryan/FISH//cropped\\\\cropped_2501_8-5_Caudate2.tif', '//pwcapdfs02.capsida.local/shares$/Histology/Ryan/FISH//cropped\\\\cropped_2501_8-5_Frontal1.tif', '//pwcapdfs02.capsida.local/shares$/Histology/Ryan/FISH//cropped\\\\cropped_2501_8-5_Frontal2.tif', '//pwcapdfs02.capsida.local/shares$/Histology/Ryan/FISH//cropped\\\\cropped_2501_8-5_Frontal3.tif', '//pwcapdfs02.capsida.local/shares$/Histology/Ryan/FISH//cropped\\\\cropped_2501_8-5_Frontal4.tif', '//pwcapdfs02.capsida.local/shares$/Histology/Ryan/FISH//cropped\\\\cropped_2501_8-5_Putamen1.tif', '//pwcapdfs02.capsida.local/shares$/Histology/Ryan/FISH//cropped\\\\cropped_2501_8-5_Putamen2.tif', '//pwcapdfs02.capsida.local/shares$/Histology/Ryan/FISH//cropped\\\\cropped_2501_8-5_Temporal1.tif', '//pwcapdfs02.capsida.local/shares$/Histology/Ryan/FISH//cropped\\\\cropped_2501_8-5_Temporal2.tif', '//pwcapdfs02.capsida.local/shares$/Histology/Ryan/FISH//cropped\\\\cropped_2501_8-5_Temporal3.tif', '//pwcapdfs02.capsida.local/shares$/Histology/Ryan/FISH//cropped\\\\cropped_2501_8-5_Temporal4.tif', '//pwcapdfs02.capsida.local/shares$/Histology/Ryan/FISH//cropped\\\\cropped_2502_8-11_Frontal1.tif', '//pwcapdfs02.capsida.local/shares$/Histology/Ryan/FISH//cropped\\\\cropped_2502_8-11_Frontal2.tif', '//pwcapdfs02.capsida.local/shares$/Histology/Ryan/FISH//cropped\\\\cropped_2502_8-11_Frontal3.tif', '//pwcapdfs02.capsida.local/shares$/Histology/Ryan/FISH//cropped\\\\cropped_2502_8-11_Frontal4.tif', '//pwcapdfs02.capsida.local/shares$/Histology/Ryan/FISH//cropped\\\\cropped_2502_8-11_Temporal1.tif', '//pwcapdfs02.capsida.local/shares$/Histology/Ryan/FISH//cropped\\\\cropped_2502_8-11_Temporal2.tif', '//pwcapdfs02.capsida.local/shares$/Histology/Ryan/FISH//cropped\\\\cropped_2502_8-11_Temporal3.tif', '//pwcapdfs02.capsida.local/shares$/Histology/Ryan/FISH//cropped\\\\cropped_2502_8-11_Temporal4.tif']\n"
     ]
    },
    {
     "name": "stderr",
     "output_type": "stream",
     "text": [
      "Multiprocessing is disabled for Windows\n",
      "Multiprocessing is disabled for Windows\n",
      "Multiprocessing is disabled for Windows\n",
      "Multiprocessing is disabled for Windows\n"
     ]
    },
    {
     "name": "stdout",
     "output_type": "stream",
     "text": [
      "CPU times: total: 17min 18s\n",
      "Wall time: 33min 32s\n"
     ]
    }
   ],
   "source": [
    "%%time\n",
    "\n",
    "\n",
    "#Provide full filepath to directory storing the images you want to segment\n",
    "directory = \"//pwcapdfs02.capsida.local/shares$/Histology/Ryan/FISH/\"\n",
    "\n",
    "for root, dirs, files in os.walk(directory):\n",
    "    for d in dirs:\n",
    "        if d == 'cropped':\n",
    "            print(root + '/' + d)\n",
    "            #Use the cellpose io.get_image_files() to retrieve imagefiles, must use this module, don't create your own list!\n",
    "            files = io.get_image_files(root + '/' + d, '_masks')\n",
    "            #print(files)\n",
    "            #Use the io.imread() to make np.arrays out of the images\n",
    "            images = [io.imread(f) for f in files]\n",
    "        \n",
    "            #run the model on the images\n",
    "            masks, flows, styles = my_model.eval(images,\n",
    "                                                  diameter=75,\n",
    "                                                  channels=[1,2], \n",
    "                                                  cellprob_threshold=-2, \n",
    "                                                  normalize={'percentile':[2.0,98.0]},\n",
    "                                                  flow_threshold=0.5, tile = False)\n",
    "            \n",
    "            print(files)\n",
    "            #Save the images as ImageJ compatible ROI zip archives\n",
    "            for image,mask,flow,item in zip(images, masks, flows, files):\n",
    "                io.save_rois(mask, item)\n",
    "                #io.save_masks(image ,mask, flow, item, save_outlines=True)"
   ]
  },
  {
   "cell_type": "code",
   "execution_count": 20,
   "id": "875a39b3-9263-4ef7-988d-9c157afbbfaf",
   "metadata": {},
   "outputs": [
    {
     "data": {
      "text/plain": [
       "[array([[0, 0, 0, ..., 0, 0, 0],\n",
       "        [0, 0, 0, ..., 0, 0, 0],\n",
       "        [0, 0, 0, ..., 0, 0, 0],\n",
       "        ...,\n",
       "        [0, 0, 0, ..., 0, 0, 0],\n",
       "        [0, 0, 0, ..., 0, 0, 0],\n",
       "        [0, 0, 0, ..., 0, 0, 0]], dtype=uint16)]"
      ]
     },
     "execution_count": 20,
     "metadata": {},
     "output_type": "execute_result"
    }
   ],
   "source": [
    "masks"
   ]
  },
  {
   "cell_type": "code",
   "execution_count": 21,
   "id": "6236b489-8a97-40a7-90f0-0bdc1af343f9",
   "metadata": {},
   "outputs": [
    {
     "data": {
      "text/plain": [
       "[[array([[[0, 1, 0],\n",
       "          [0, 1, 0],\n",
       "          [0, 1, 0],\n",
       "          ...,\n",
       "          [1, 1, 0],\n",
       "          [1, 1, 0],\n",
       "          [1, 1, 0]],\n",
       "  \n",
       "         [[0, 1, 0],\n",
       "          [0, 1, 0],\n",
       "          [0, 1, 0],\n",
       "          ...,\n",
       "          [1, 1, 0],\n",
       "          [1, 1, 0],\n",
       "          [1, 1, 0]],\n",
       "  \n",
       "         [[0, 1, 0],\n",
       "          [0, 1, 0],\n",
       "          [0, 1, 0],\n",
       "          ...,\n",
       "          [1, 0, 0],\n",
       "          [1, 1, 0],\n",
       "          [1, 1, 0]],\n",
       "  \n",
       "         ...,\n",
       "  \n",
       "         [[0, 0, 0],\n",
       "          [0, 0, 0],\n",
       "          [0, 0, 0],\n",
       "          ...,\n",
       "          [1, 0, 0],\n",
       "          [2, 0, 0],\n",
       "          [2, 0, 0]],\n",
       "  \n",
       "         [[0, 0, 0],\n",
       "          [0, 0, 0],\n",
       "          [0, 0, 0],\n",
       "          ...,\n",
       "          [1, 0, 0],\n",
       "          [2, 0, 0],\n",
       "          [2, 0, 0]],\n",
       "  \n",
       "         [[0, 0, 0],\n",
       "          [0, 0, 0],\n",
       "          [0, 0, 0],\n",
       "          ...,\n",
       "          [1, 0, 0],\n",
       "          [2, 0, 0],\n",
       "          [2, 0, 0]]], dtype=uint8),\n",
       "  array([[[-0.00858343, -0.00873503, -0.00934293, ..., -0.01703316,\n",
       "           -0.02078209, -0.02171701],\n",
       "          [-0.00862091, -0.00880038, -0.00952002, ..., -0.01688639,\n",
       "           -0.02041956, -0.02130068],\n",
       "          [-0.00877085, -0.00906178, -0.01022834, ..., -0.01629928,\n",
       "           -0.01896945, -0.01963535],\n",
       "          ...,\n",
       "          [-0.00573447, -0.00584705, -0.00629845, ..., -0.03656593,\n",
       "           -0.04984415, -0.05315551],\n",
       "          [-0.00455762, -0.00466504, -0.00509578, ..., -0.03976479,\n",
       "           -0.05430895, -0.05793602],\n",
       "          [-0.0042634 , -0.00436953, -0.00479512, ..., -0.0405645 ,\n",
       "           -0.05542515, -0.05913115]],\n",
       "  \n",
       "         [[ 0.03016621,  0.03055061,  0.032092  , ...,  0.03009639,\n",
       "            0.03318474,  0.03395492],\n",
       "          [ 0.03027501,  0.03069854,  0.03239683, ...,  0.02932058,\n",
       "            0.03210061,  0.03279391],\n",
       "          [ 0.03071024,  0.03129027,  0.03361613, ...,  0.02621733,\n",
       "            0.02776413,  0.02814987],\n",
       "          ...,\n",
       "          [ 0.02001472,  0.02035777,  0.02173339, ..., -0.01580834,\n",
       "           -0.01045837, -0.00912417],\n",
       "          [ 0.02013368,  0.02057684,  0.02235386, ..., -0.01691621,\n",
       "           -0.00990612, -0.00815792],\n",
       "          [ 0.02016342,  0.0206316 ,  0.02250897, ..., -0.01719318,\n",
       "           -0.00976806, -0.00791636]]], dtype=float32),\n",
       "  array([[-6.663515 , -6.6671515, -6.681733 , ..., -6.674878 , -6.583129 ,\n",
       "          -6.560248 ],\n",
       "         [-6.663915 , -6.667548 , -6.682116 , ..., -6.681434 , -6.587447 ,\n",
       "          -6.5640078],\n",
       "         [-6.665515 , -6.669134 , -6.683646 , ..., -6.707659 , -6.604719 ,\n",
       "          -6.579048 ],\n",
       "         ...,\n",
       "         [-6.515501 , -6.512212 , -6.4990225, ..., -5.684371 , -6.019476 ,\n",
       "          -6.103046 ],\n",
       "         [-6.4959087, -6.4901543, -6.467081 , ..., -5.6842413, -5.958869 ,\n",
       "          -6.027357 ],\n",
       "         [-6.4910107, -6.48464  , -6.4590955, ..., -5.684209 , -5.9437175,\n",
       "          -6.008435 ]], dtype=float32),\n",
       "  array([[[0.000e+00, 0.000e+00, 0.000e+00, ..., 0.000e+00, 0.000e+00,\n",
       "           0.000e+00],\n",
       "          [1.000e+00, 1.000e+00, 1.000e+00, ..., 1.000e+00, 1.000e+00,\n",
       "           1.000e+00],\n",
       "          [2.000e+00, 2.000e+00, 2.000e+00, ..., 2.000e+00, 2.000e+00,\n",
       "           2.000e+00],\n",
       "          ...,\n",
       "          [4.227e+03, 4.227e+03, 4.227e+03, ..., 4.227e+03, 4.227e+03,\n",
       "           4.227e+03],\n",
       "          [4.228e+03, 4.228e+03, 4.228e+03, ..., 4.228e+03, 4.228e+03,\n",
       "           4.228e+03],\n",
       "          [4.229e+03, 4.229e+03, 4.229e+03, ..., 4.229e+03, 4.229e+03,\n",
       "           4.229e+03]],\n",
       "  \n",
       "         [[0.000e+00, 1.000e+00, 2.000e+00, ..., 4.054e+03, 4.055e+03,\n",
       "           4.056e+03],\n",
       "          [0.000e+00, 1.000e+00, 2.000e+00, ..., 4.054e+03, 4.055e+03,\n",
       "           4.056e+03],\n",
       "          [0.000e+00, 1.000e+00, 2.000e+00, ..., 4.054e+03, 4.055e+03,\n",
       "           4.056e+03],\n",
       "          ...,\n",
       "          [0.000e+00, 1.000e+00, 2.000e+00, ..., 4.054e+03, 4.055e+03,\n",
       "           4.056e+03],\n",
       "          [0.000e+00, 1.000e+00, 2.000e+00, ..., 4.054e+03, 4.055e+03,\n",
       "           4.056e+03],\n",
       "          [0.000e+00, 1.000e+00, 2.000e+00, ..., 4.054e+03, 4.055e+03,\n",
       "           4.056e+03]]], dtype=float32)]]"
      ]
     },
     "execution_count": 21,
     "metadata": {},
     "output_type": "execute_result"
    }
   ],
   "source": [
    "flows"
   ]
  },
  {
   "cell_type": "code",
   "execution_count": 22,
   "id": "9340cc6d-93f3-455d-9ce2-3424f6f88581",
   "metadata": {},
   "outputs": [
    {
     "data": {
      "text/plain": [
       "[array([-0.03809734, -0.084461  ,  0.04851066, -0.03419482, -0.05672916,\n",
       "         0.04173458, -0.03718824, -0.01009935, -0.11159005,  0.00698023,\n",
       "         0.06991496, -0.02859516, -0.20076896, -0.0038269 ,  0.04862156,\n",
       "         0.04501025, -0.05553155, -0.04786025, -0.11275714, -0.00890143,\n",
       "         0.00730752, -0.05412751, -0.09598265, -0.10150884, -0.01953399,\n",
       "        -0.10220949, -0.04391336, -0.10852136,  0.10354734,  0.07436348,\n",
       "        -0.01476986, -0.00753419, -0.11523025,  0.00073288, -0.09019808,\n",
       "         0.07942405,  0.03085568,  0.0404245 ,  0.11887141,  0.02151956,\n",
       "        -0.00696129,  0.01309379, -0.02018923, -0.02058293,  0.00628143,\n",
       "        -0.04868202, -0.01595981,  0.04975908, -0.02334795,  0.00129621,\n",
       "        -0.001122  ,  0.04380302, -0.04819696,  0.00801883, -0.12113811,\n",
       "        -0.07530786, -0.20099792, -0.05111757, -0.02353123, -0.10459603,\n",
       "        -0.02695633,  0.0843484 , -0.09184784, -0.06952369,  0.00309393,\n",
       "        -0.09784506, -0.01065227, -0.14022484,  0.0258591 , -0.03964452,\n",
       "        -0.09484306, -0.04133852, -0.04198174, -0.00175346,  0.04831735,\n",
       "         0.06003705, -0.02100904, -0.0202328 ,  0.04611462, -0.02229107,\n",
       "         0.05765287, -0.05536027, -0.0960761 , -0.06004937, -0.02030694,\n",
       "         0.01714645, -0.11031815, -0.0760957 , -0.16453008, -0.0609141 ,\n",
       "        -0.00862886,  0.10516492,  0.07127748, -0.0047168 ,  0.01964982,\n",
       "         0.00397068,  0.00688132, -0.04489256, -0.01986187, -0.02899827,\n",
       "        -0.01694644, -0.09818287, -0.01280516, -0.02876777,  0.02561133,\n",
       "        -0.07728602,  0.04513367, -0.07119843,  0.01024211,  0.01375668,\n",
       "         0.00372665,  0.00045153, -0.10835785,  0.13227294, -0.07642631,\n",
       "         0.04337906, -0.16220182, -0.00903192, -0.02363163,  0.05721129,\n",
       "         0.07351293, -0.04092504, -0.01239792,  0.01194523, -0.03842232,\n",
       "        -0.00862934, -0.05069829, -0.13981824,  0.08793665,  0.10520668,\n",
       "         0.0396415 , -0.02113999, -0.0084326 , -0.04854761, -0.05562385,\n",
       "        -0.05127908, -0.08252689,  0.01418674, -0.04622557,  0.11737703,\n",
       "        -0.01762903, -0.01629745,  0.04038348, -0.08991512, -0.04918411,\n",
       "        -0.08372227, -0.07143297,  0.01786546,  0.05128655, -0.00502989,\n",
       "         0.01522711,  0.0032684 , -0.04805666,  0.02471792,  0.00706228,\n",
       "        -0.04372388, -0.04032767, -0.13185616, -0.04763381, -0.08187927,\n",
       "        -0.05025585, -0.07710636, -0.0188955 , -0.1329007 , -0.02501441,\n",
       "        -0.04834263, -0.08791196, -0.04796196, -0.02542463,  0.04221945,\n",
       "        -0.02714059,  0.01252513, -0.03278431, -0.04229498, -0.0500802 ,\n",
       "        -0.12098292, -0.11105484,  0.00812345, -0.00679982, -0.10341604,\n",
       "        -0.00342258, -0.01803802,  0.00962915,  0.02417442, -0.02410399,\n",
       "        -0.10545781, -0.06429085, -0.00096175, -0.02625122,  0.09315483,\n",
       "         0.05300399,  0.00259056, -0.05564954, -0.06476377, -0.04926575,\n",
       "        -0.12149015, -0.017328  ,  0.03362085, -0.06275959,  0.04795061,\n",
       "        -0.08179813, -0.04911898, -0.09900752, -0.07834297, -0.00252211,\n",
       "        -0.03682464, -0.00057838, -0.08402337,  0.01186567, -0.06201523,\n",
       "        -0.05123019,  0.03438401, -0.1005936 ,  0.02181319,  0.00994218,\n",
       "        -0.07401177, -0.00640084,  0.01688313,  0.12128032,  0.06396558,\n",
       "        -0.00192202, -0.15074965,  0.03120536,  0.04127116, -0.06154478,\n",
       "         0.06679659, -0.01763207, -0.03035947, -0.016556  ,  0.02026574,\n",
       "        -0.00887696, -0.08329769, -0.08438483, -0.01185001, -0.01211428,\n",
       "         0.01959895, -0.02266356, -0.00655899,  0.09551509,  0.05865547,\n",
       "         0.02697491,  0.0649629 ,  0.01544941,  0.01240855, -0.0065876 ,\n",
       "        -0.03486868,  0.03397761, -0.02835043, -0.05159689, -0.0210121 ,\n",
       "         0.00675675,  0.02679158, -0.04265346, -0.05765384,  0.02536864,\n",
       "        -0.03732108], dtype=float32)]"
      ]
     },
     "execution_count": 22,
     "metadata": {},
     "output_type": "execute_result"
    }
   ],
   "source": [
    "styles"
   ]
  },
  {
   "cell_type": "markdown",
   "id": "423b05c5-f5a8-4ec4-beeb-640441194796",
   "metadata": {},
   "source": [
    "\n",
    "## DAPI Model"
   ]
  },
  {
   "cell_type": "code",
   "execution_count": 18,
   "id": "ca20ea36-d504-4fc0-b626-5c000bc8a086",
   "metadata": {},
   "outputs": [
    {
     "name": "stdout",
     "output_type": "stream",
     "text": [
      "D:/Histology_Analysis_Ryan/Striatum/TIF/Run/DAPI\n"
     ]
    },
    {
     "name": "stderr",
     "output_type": "stream",
     "text": [
      "Multiprocessing is disabled for Windows\n",
      "Multiprocessing is disabled for Windows\n",
      "Multiprocessing is disabled for Windows\n",
      "Multiprocessing is disabled for Windows\n",
      "Multiprocessing is disabled for Windows\n",
      "Multiprocessing is disabled for Windows\n",
      "Multiprocessing is disabled for Windows\n",
      "Multiprocessing is disabled for Windows\n",
      "Multiprocessing is disabled for Windows\n",
      "Multiprocessing is disabled for Windows\n",
      "Multiprocessing is disabled for Windows\n",
      "Multiprocessing is disabled for Windows\n",
      "Multiprocessing is disabled for Windows\n",
      "Multiprocessing is disabled for Windows\n",
      "Multiprocessing is disabled for Windows\n",
      "Multiprocessing is disabled for Windows\n",
      "Multiprocessing is disabled for Windows\n",
      "Multiprocessing is disabled for Windows\n",
      "Multiprocessing is disabled for Windows\n",
      "Multiprocessing is disabled for Windows\n",
      "Multiprocessing is disabled for Windows\n",
      "Multiprocessing is disabled for Windows\n",
      "Multiprocessing is disabled for Windows\n",
      "Multiprocessing is disabled for Windows\n",
      "Multiprocessing is disabled for Windows\n",
      "Multiprocessing is disabled for Windows\n",
      "Multiprocessing is disabled for Windows\n",
      "Multiprocessing is disabled for Windows\n",
      "Multiprocessing is disabled for Windows\n",
      "Multiprocessing is disabled for Windows\n",
      "Multiprocessing is disabled for Windows\n",
      "Multiprocessing is disabled for Windows\n",
      "Multiprocessing is disabled for Windows\n",
      "Multiprocessing is disabled for Windows\n",
      "Multiprocessing is disabled for Windows\n",
      "Multiprocessing is disabled for Windows\n",
      "Multiprocessing is disabled for Windows\n",
      "Multiprocessing is disabled for Windows\n",
      "Multiprocessing is disabled for Windows\n",
      "Multiprocessing is disabled for Windows\n",
      "Multiprocessing is disabled for Windows\n",
      "Multiprocessing is disabled for Windows\n",
      "Multiprocessing is disabled for Windows\n",
      "Multiprocessing is disabled for Windows\n",
      "Multiprocessing is disabled for Windows\n",
      "Multiprocessing is disabled for Windows\n",
      "Multiprocessing is disabled for Windows\n",
      "Multiprocessing is disabled for Windows\n",
      "Multiprocessing is disabled for Windows\n",
      "Multiprocessing is disabled for Windows\n",
      "Multiprocessing is disabled for Windows\n",
      "Multiprocessing is disabled for Windows\n",
      "Multiprocessing is disabled for Windows\n",
      "Multiprocessing is disabled for Windows\n"
     ]
    },
    {
     "name": "stdout",
     "output_type": "stream",
     "text": [
      "CPU times: total: 32min 3s\n",
      "Wall time: 17min 41s\n"
     ]
    }
   ],
   "source": [
    "%%time\n",
    "# DEFINE CELLPOSE MODEL\n",
    "# model_type='cyto' or model_type='nuclei'\n",
    "model = models.Cellpose(gpu=True, model_type='cyto')\n",
    "\n",
    "#Provide full filepath to directory storing the images you want to segment\n",
    "directory = \"D:/Histology_Analysis_Ryan/Striatum/TIF/Run/\"\n",
    "\n",
    "for root, dirs, files in os.walk(directory):\n",
    "    for d in dirs:\n",
    "        print(root + d)\n",
    "        #Use the cellpose io.get_image_files() to retrieve imagefiles, must use this module, don't create your own list!\n",
    "        files = io.get_image_files(root + d, '_masks')\n",
    "        #print(files)\n",
    "        #Use the io.imread() to make np.arrays out of the images\n",
    "        images = [io.imread(f) for f in files]\n",
    "    \n",
    "        #run the model on the imagesr\n",
    "        masks, flows, styles, diams = model.eval(images, \n",
    "                                              diameter=24,\n",
    "                                              channels=[2,0], \n",
    "                                              cellprob_threshold=0, \n",
    "                                              flow_threshold=0.6, tile = False)\n",
    "        \n",
    "    \n",
    "        #Save the images as ImageJ compatible ROI zip archives\n",
    "        for image,mask,flow,item in zip(images,masks, flows, files):\n",
    "            io.save_rois(mask, item)\n",
    "            #io.save_masks(image ,mask, flow, item, save_outlines=True)\n"
   ]
  },
  {
   "cell_type": "code",
   "execution_count": null,
   "id": "5acaff14-58a2-4857-8e20-5e792a6f3cf1",
   "metadata": {},
   "outputs": [],
   "source": []
  }
 ],
 "metadata": {
  "kernelspec": {
   "display_name": "Python 3 (ipykernel)",
   "language": "python",
   "name": "python3"
  },
  "language_info": {
   "codemirror_mode": {
    "name": "ipython",
    "version": 3
   },
   "file_extension": ".py",
   "mimetype": "text/x-python",
   "name": "python",
   "nbconvert_exporter": "python",
   "pygments_lexer": "ipython3",
   "version": "3.8.5"
  }
 },
 "nbformat": 4,
 "nbformat_minor": 5
}
